{
  "cells": [
    {
      "cell_type": "code",
      "execution_count": null,
      "metadata": {
        "id": "8774335d"
      },
      "outputs": [],
      "source": [
        "class BaghchalBoard:\n",
        "    def __init__(self):\n",
        "        # Initialize a 5x5 grid for the Baghchal board\n",
        "        self.board = [['.' for _ in range(5)] for _ in range(5)]\n",
        "        # Place the initial position of the tigers and goats on the board\n",
        "        self.board[0][0] = 'T'\n",
        "        self.board[0][4] = 'T'\n",
        "        self.board[4][0] = 'T'\n",
        "        self.board[4][4] = 'T'\n",
        "\n",
        "        self.valid_move = False\n",
        "        self.goat_killed= False\n",
        "        self.goats_placed = 0  # Keep track of the number of goats placed\n",
        "        self.goats_remaining = 20  # Keep track of the number of goats remaining in board\n",
        "        self.turn = 'G'  # 'T' for Tiger, 'G' for Goat\n",
        "        self.state_history=[]\n",
        "        self.n= 5\n",
        "\n",
        "    def display_board(self):\n",
        "        # Display the current state of the Baghchal board\n",
        "        for row in self.board:\n",
        "            print(' '.join(row))\n",
        "        print()\n",
        "\n",
        "    def is_valid_move(self, start_row,start_col,end_row,end_col):\n",
        "\n",
        "\n",
        "        piece= self.board[start_row][start_col]\n",
        "\n",
        "        # Function to check if a move is valid for a specific piece\n",
        "\n",
        "        # Check if the end position is out of bounds\n",
        "        #f not (0 <= end_row < 5 and 0 <= end_col < 5):\n",
        "            #eturn False\n",
        "\n",
        "\n",
        "        if self.board[end_row][end_col] != '.':\n",
        "            return False\n",
        "\n",
        "        if self.goats_placed<20 and self.turn==\"G\" and piece!='.':\n",
        "            return False\n",
        "        if self.goats_placed<20 and self.turn==\"T\"and piece!='T':\n",
        "            return False\n",
        "\n",
        "        if self.goats_placed==20 and self.board[start_row][start_col]!='self.turn':\n",
        "            return False\n",
        "\n",
        "\n",
        "\n",
        "\n",
        "        # Perform piece-specific move validation\n",
        "        if self.turn == 'T':\n",
        "            return self.validate_tiger_move(start_row, start_col, end_row, end_col)\n",
        "        if self.turn == 'G':\n",
        "            return self.validate_goat_move(start_row, start_col, end_row, end_col)\n",
        "\n",
        "\n",
        "    def is_even(self,number):\n",
        "         return number % 2 == 0\n",
        "\n",
        "\n",
        "\n",
        "\n",
        "    def validate_tiger_move(self, start_row, start_col, end_row, end_col):\n",
        "\n",
        "        # Function to validate tiger move\n",
        "\n",
        "\n",
        "            #Tigers can move one square horizontally or vertically.\n",
        "            if abs(start_row - end_row) == 1 and start_col == end_col:\n",
        "                return True\n",
        "            if self.is_even(start_row+start_col):\n",
        "                if abs(start_row - end_row) == 1 and abs(start_col - end_col) == 1:\n",
        "                    return True\n",
        "\n",
        "            if abs(start_col - end_col) == 1 and start_row == end_row:\n",
        "                return True\n",
        "\n",
        "            # Check for jump move (over goat) in all diagonal directions\n",
        "            if self.is_even(start_row+start_col): # to avoid the diagonal move if the positional sum is odd\n",
        "                if abs(start_row - end_row) == 2 and abs(start_col - end_col) == 2:\n",
        "\n",
        "                    jump_row =(start_row + end_row) // 2\n",
        "                    jump_col =(start_col + end_col) // 2\n",
        "\n",
        "                    if self.board[jump_row][jump_col] == 'G':\n",
        "                        return True\n",
        "\n",
        "\n",
        "\n",
        "            if abs(start_row - end_row) == 2 and start_col ==end_col:\n",
        "                jump_row = (start_row + end_row) // 2\n",
        "                jump_col = start_col\n",
        "\n",
        "                if self.board[jump_row][jump_col] == 'G':\n",
        "                    return True\n",
        "\n",
        "            if start_row ==end_row and abs(start_col - end_col) == 2:\n",
        "                jump_row = start_row\n",
        "                jump_col = (start_col + end_col) // 2\n",
        "\n",
        "                if self.board[jump_row][jump_col] == 'G':\n",
        "                    return True\n",
        "\n",
        "\n",
        "            #print('Invalid tiger move')\n",
        "            return False\n",
        "\n",
        "    def validate_goat_move(self, start_row, start_col, end_row, end_col):\n",
        "\n",
        "\n",
        "        # Function to validate goat move\n",
        "\n",
        "        # Goats can move one square horizontally or vertically or diagonally.\n",
        "        if abs(start_row - end_row) == 1 and start_col == end_col:\n",
        "            return True\n",
        "        if abs(start_col - end_col) == 1 and start_row == end_row:\n",
        "            return True\n",
        "\n",
        "        if self.is_even(start_row+start_col):\n",
        "            if abs(start_col - end_col) == 1 and abs(start_row - end_row) == 1:\n",
        "                return True\n",
        "\n",
        "        if self.goats_placed<20 and self.turn==\"G\" and start_row==end_row and start_col==end_col:\n",
        "            return True\n",
        "\n",
        "\n",
        "        #print('invalid goat move')\n",
        "        return False\n",
        "\n",
        "\n",
        "    def make_move(self, start_row,start_col,end_row, end_col):\n",
        "\n",
        "\n",
        "        # Function to make a move on the Baghchal board\n",
        "         # Get the piece at the start position\n",
        "        piece= self.board[start_row][start_col]\n",
        "        if self.is_valid_move(start_row,start_col,end_row,end_col):\n",
        "                self. valid_move = True\n",
        "                # If it's the goat's turn and goats are available to be placed, perform placement\n",
        "                if  self.goats_placed<20 and self.turn=='G':\n",
        "                    self.board[end_row][end_col] = 'G'\n",
        "                    self.goats_placed += 1\n",
        "\n",
        "\n",
        "                # Perform the move for tiger or goat that can move\n",
        "                self.board[start_row][start_col] = '.'\n",
        "                self.board[end_row][end_col] = self.turn\n",
        "\n",
        "\n",
        "                 # Remove the goat if the tiger captured it\n",
        "                if piece == 'T':\n",
        "                    jump_row = (start_row + end_row) // 2\n",
        "                    jump_col = (start_col + end_col) // 2\n",
        "                    if self.board[jump_row][jump_col] == 'G':\n",
        "                        self.board[jump_row][jump_col] = '.'\n",
        "                        self.goat_killed = True\n",
        "\n",
        "                    else:\n",
        "                        self.goat_killed = False\n",
        "\n",
        "\n",
        "\n",
        "                # Switch turn to the other player\n",
        "                self.turn = 'T' if self.turn == 'G' else 'G'\n",
        "        else :\n",
        "            self.valid_move=False\n",
        "\n",
        "\n",
        "    def check_loop(self):\n",
        "        # Function to check for loops in the last n game states\n",
        "\n",
        "        # Get the current board state\n",
        "        current_state = tuple(tuple(row) for row in self.board)\n",
        "\n",
        "        # Check if the current state has been encountered in the last n states\n",
        "        if current_state in self.state_history:\n",
        "            return True\n",
        "\n",
        "        # Add the current state to the state history list\n",
        "        self.state_history.append(current_state)\n",
        "\n",
        "        # If the list size exceeds n, remove the oldest state\n",
        "        if len(self.state_history) > self.n:\n",
        "            self.state_history.pop(0)\n",
        "\n",
        "        return False\n",
        "\n",
        "    def check_win_conditions(self):\n",
        "\n",
        "\n",
        "\n",
        "        # Check if tigers have no valid moves (Goats win)\n",
        "        valid_tiger_moves =  any(self.is_valid_move(row, col, new_row, new_col)\n",
        "                                for row in range(5) for col in range(5)\n",
        "                                for new_row in range(max(0, row - 2), min(5, row + 3))\n",
        "                                for new_col in range(max(0, col - 2), min(5, col + 3)))\n",
        "\n",
        "\n",
        "\n",
        "\n",
        "\n",
        "        if not valid_tiger_moves:\n",
        "            return 'Goat'\n",
        "\n",
        "\n",
        "        # Check if goats have no valid moves (Tigers win)\n",
        "        valid_goat_moves =  any(self.is_valid_move( row, col, new_row, new_col)\n",
        "                                for row in range(5) for col in range(5)\n",
        "                                for new_row in range(max(0, row - 1), min(5, row + 2))\n",
        "                                for new_col in range(max(0, col - 1), min(5, col + 2)))\n",
        "\n",
        "\n",
        "        if not valid_goat_moves:\n",
        "            return 'Tiger'\n",
        "\n",
        "        # Check if the goats are reduced to less than or equal to 15 (Tigers win)\n",
        "        goats_remaining = sum([obj == 'G' for row in self.board for obj in row])\n",
        "        if goats_remaining <= 15 and self.goats_placed == 20:\n",
        "            return 'Tiger'\n",
        "\n",
        "        # If no win condition is met, return None (game ongoing)\n",
        "\n",
        "\n",
        "\n",
        "\n"
      ],
      "id": "8774335d"
    },
    {
      "cell_type": "code",
      "execution_count": null,
      "metadata": {
        "colab": {
          "base_uri": "https://localhost:8080/"
        },
        "id": "7BzOWk5PhMuv",
        "outputId": "25660489-21c9-4b6f-8cb0-07f6af49b59d"
      },
      "outputs": [
        {
          "name": "stdout",
          "output_type": "stream",
          "text": [
            "Collecting gymnasium\n",
            "  Downloading gymnasium-0.29.1-py3-none-any.whl (953 kB)\n",
            "\u001b[2K     \u001b[90m━━━━━━━━━━━━━━━━━━━━━━━━━━━━━━━━━━━━━━━\u001b[0m \u001b[32m953.9/953.9 kB\u001b[0m \u001b[31m8.2 MB/s\u001b[0m eta \u001b[36m0:00:00\u001b[0m\n",
            "\u001b[?25hRequirement already satisfied: numpy>=1.21.0 in /usr/local/lib/python3.10/dist-packages (from gymnasium) (1.23.5)\n",
            "Requirement already satisfied: cloudpickle>=1.2.0 in /usr/local/lib/python3.10/dist-packages (from gymnasium) (2.2.1)\n",
            "Requirement already satisfied: typing-extensions>=4.3.0 in /usr/local/lib/python3.10/dist-packages (from gymnasium) (4.7.1)\n",
            "Collecting farama-notifications>=0.0.1 (from gymnasium)\n",
            "  Downloading Farama_Notifications-0.0.4-py3-none-any.whl (2.5 kB)\n",
            "Installing collected packages: farama-notifications, gymnasium\n",
            "Successfully installed farama-notifications-0.0.4 gymnasium-0.29.1\n"
          ]
        }
      ],
      "source": [
        "!pip install gymnasium"
      ],
      "id": "7BzOWk5PhMuv"
    },
    {
      "cell_type": "code",
      "execution_count": null,
      "metadata": {
        "id": "dd51f3d4"
      },
      "outputs": [],
      "source": [
        "import  gymnasium as gym\n",
        "\n",
        "from gym import spaces\n",
        "import numpy as np\n",
        "# initially we are considering to train tiger as the agent\n",
        "# Define the BaghchalEnv class that inherits from gym.Env\n",
        "class BaghchalEnv(gym.Env):\n",
        "    def __init__(self):\n",
        "        super().__init__()\n",
        "\n",
        "        # Initialize the BaghchalBoard\n",
        "        self.board = BaghchalBoard()\n",
        "\n",
        "        # Define the action and observation space\n",
        "        self.observation_space = spaces.MultiDiscrete([3]*25)  # 5x5 grid with values 0, 1, 2\n",
        "\n",
        "\n",
        "        # Define the action space\n",
        "        self.action_space = gym.spaces.Discrete(625) # Each component can be 0 to 4\n",
        "\n",
        "        # Initialize the game\n",
        "        self.reset()\n",
        "\n",
        "\n",
        "    def reset(self):\n",
        "        self.board.__init__()  # Reset the BaghchalBoard\n",
        "        return self.get_observation()\n",
        "\n",
        "    def step(self, action):\n",
        "        start_row, start_col, end_row, end_col = action\n",
        "        if self.board.turn == 'G':  # If it's the Goat's turn\n",
        "            goat_move = self.minimax('G', depth=3)  # Adjust depth as needed\n",
        "            self.board.make_move(goat_move[0], goat_move[1], goat_move[2], goat_move[3])\n",
        "        else:\n",
        "            self.board.make_move(start_row, start_col, end_row, end_col)\n",
        "\n",
        "        observation = self.get_observation()\n",
        "        reward = self.get_reward()\n",
        "        done = self.is_game_over()\n",
        "\n",
        "        return observation, reward, done, {}\n",
        "\n",
        "    def render(self, mode='human'):\n",
        "        self.board.display_board()\n",
        "\n",
        "\n",
        "\n",
        "\n",
        "    def get_observation(self):\n",
        "\n",
        "      observation = np.zeros((25,), dtype=int)  # Flattened 1D array\n",
        "      for row in range(5):\n",
        "          for col in range(5):\n",
        "              piece = self.board.board[row][col]\n",
        "              if piece == 'T':\n",
        "                  observation[row * 5 + col] = 1\n",
        "              elif piece == 'G':\n",
        "                  observation[row * 5 + col] = 2\n",
        "              elif piece == '.':\n",
        "                  observation[row * 5 + col] = 0\n",
        "      return observation.tolist()  # Convert the NumPy array to a Python list\n",
        "\n",
        "\n",
        "\n",
        "\n",
        "\n",
        "\n",
        "\n",
        "\n",
        "\n",
        "\n",
        "    def get_reward(self): # these are hyperparameters ,, need to assign wisely\n",
        "        win_condition = self.board.check_win_conditions()\n",
        "        if self.board.valid_move is  False :\n",
        "            return -1\n",
        "        if win_condition == 'Tiger':\n",
        "            return 100\n",
        "        if win_condition == 'Goat':\n",
        "            return -100\n",
        "        if self.board.goat_killed is True :\n",
        "            return 10\n",
        "\n",
        "        if self.board.check_loop() is True :\n",
        "            return -5\n",
        "\n",
        "\n",
        "    def is_game_over(self):\n",
        "        return self.board.check_win_conditions() in  ['Tiger', 'Goat']\n",
        "\n",
        "\n",
        "\n",
        "\n",
        "    def minimax(self, player, depth, alpha=-float('inf'), beta=float('inf')):\n",
        "        if depth == 0 or self.board.check_win_conditions() is not None:\n",
        "            return None, None, None, None, self.evaluate_board()\n",
        "\n",
        "        if player == 'G':\n",
        "            max_eval = -float('inf')\n",
        "            best_move = None\n",
        "            for start_row in range(5):\n",
        "                for start_col in range(5):\n",
        "                    for end_row in range(5):\n",
        "                        for end_col in range(5):\n",
        "                            if self.board.is_valid_move(start_row, start_col, end_row, end_col):\n",
        "                                self.board.make_move(start_row, start_col, end_row, end_col)\n",
        "                                eval = self.minimax('T', depth - 1, alpha, beta)[4]\n",
        "                                self.board.undo_move(start_row, start_col, end_row, end_col)\n",
        "                                if eval > max_eval:\n",
        "                                    max_eval = eval\n",
        "                                    best_move = (start_row, start_col, end_row, end_col)\n",
        "                                alpha = max(alpha, eval)\n",
        "                                if beta <= alpha:\n",
        "                                    break\n",
        "            return best_move\n",
        "\n",
        "        else:\n",
        "            min_eval = float('inf')\n",
        "            best_move = None\n",
        "            for start_row in range(5):\n",
        "                for start_col in range(5):\n",
        "                    for end_row in range(5):\n",
        "                        for end_col in range(5):\n",
        "                            if self.board.is_valid_move(start_row, start_col, end_row, end_col):\n",
        "                                self.board.make_move(start_row, start_col, end_row, end_col)\n",
        "                                eval = self.minimax('G', depth - 1, alpha, beta)[4]\n",
        "                                self.board.undo_move(start_row, start_col, end_row, end_col)\n",
        "                                if eval < min_eval:\n",
        "                                    min_eval = eval\n",
        "                                    best_move = (start_row, start_col, end_row, end_col)\n",
        "                                beta = min(beta, eval)\n",
        "                                if beta <= alpha:\n",
        "                                    break\n",
        "            return best_move\n",
        "\n",
        "    def evaluate_board(self):\n",
        "        # Evaluation function to score the current board state\n",
        "        goats_on_board = sum([1 for row in self.board.board for obj in row if obj == 'G'])\n",
        "        tigers_on_board = sum([1 for row in self.board.board for obj in row if obj == 'T'])\n",
        "\n",
        "        # A simple scoring function\n",
        "        score = tigers_on_board - goats_on_board\n",
        "\n",
        "        return score\n",
        "\n"
      ],
      "id": "dd51f3d4"
    },
    {
      "cell_type": "code",
      "execution_count": null,
      "metadata": {
        "colab": {
          "base_uri": "https://localhost:8080/"
        },
        "id": "xmwP1zN1i_3v",
        "outputId": "864df3f6-6dc7-4352-dad6-3393c94bfc1b"
      },
      "outputs": [
        {
          "name": "stderr",
          "output_type": "stream",
          "text": [
            "/usr/local/lib/python3.10/dist-packages/ipykernel/ipkernel.py:283: DeprecationWarning: `should_run_async` will not call `transform_cell` automatically in the future. Please pass the result to `transformed_cell` argument and any exception that happen during thetransform in `preprocessing_exc_tuple` in IPython 7.17 and above.\n",
            "  and should_run_async(code)\n"
          ]
        },
        {
          "name": "stdout",
          "output_type": "stream",
          "text": [
            "Collecting shimmy>=0.2.1\n",
            "  Downloading Shimmy-1.2.1-py3-none-any.whl (37 kB)\n",
            "Requirement already satisfied: numpy>=1.18.0 in /usr/local/lib/python3.10/dist-packages (from shimmy>=0.2.1) (1.23.5)\n",
            "Requirement already satisfied: gymnasium>=0.27.0 in /usr/local/lib/python3.10/dist-packages (from shimmy>=0.2.1) (0.29.1)\n",
            "Requirement already satisfied: cloudpickle>=1.2.0 in /usr/local/lib/python3.10/dist-packages (from gymnasium>=0.27.0->shimmy>=0.2.1) (2.2.1)\n",
            "Requirement already satisfied: typing-extensions>=4.3.0 in /usr/local/lib/python3.10/dist-packages (from gymnasium>=0.27.0->shimmy>=0.2.1) (4.7.1)\n",
            "Requirement already satisfied: farama-notifications>=0.0.1 in /usr/local/lib/python3.10/dist-packages (from gymnasium>=0.27.0->shimmy>=0.2.1) (0.0.4)\n",
            "Installing collected packages: shimmy\n",
            "Successfully installed shimmy-1.2.1\n"
          ]
        }
      ],
      "source": [
        "pip install 'shimmy>=0.2.1'"
      ],
      "id": "xmwP1zN1i_3v"
    },
    {
      "cell_type": "code",
      "execution_count": null,
      "metadata": {
        "colab": {
          "base_uri": "https://localhost:8080/"
        },
        "id": "fDrOyddJpsod",
        "outputId": "541bcc4f-335f-421f-9084-400b90349c7f"
      },
      "outputs": [
        {
          "name": "stdout",
          "output_type": "stream",
          "text": [
            "Collecting stable_baselines3\n",
            "  Downloading stable_baselines3-2.1.0-py3-none-any.whl (178 kB)\n",
            "\u001b[?25l     \u001b[90m━━━━━━━━━━━━━━━━━━━━━━━━━━━━━━━━━━━━━━━━\u001b[0m \u001b[32m0.0/178.7 kB\u001b[0m \u001b[31m?\u001b[0m eta \u001b[36m-:--:--\u001b[0m\r\u001b[2K     \u001b[91m━━━━━━━━━━━━━━━━━━━━\u001b[0m\u001b[91m╸\u001b[0m\u001b[90m━━━━━━━━━━━━━━━━━━━\u001b[0m \u001b[32m92.2/178.7 kB\u001b[0m \u001b[31m2.6 MB/s\u001b[0m eta \u001b[36m0:00:01\u001b[0m\r\u001b[2K     \u001b[90m━━━━━━━━━━━━━━━━━━━━━━━━━━━━━━━━━━━━━━━\u001b[0m \u001b[32m178.7/178.7 kB\u001b[0m \u001b[31m3.4 MB/s\u001b[0m eta \u001b[36m0:00:00\u001b[0m\n",
            "\u001b[?25hRequirement already satisfied: gymnasium<0.30,>=0.28.1 in /usr/local/lib/python3.10/dist-packages (from stable_baselines3) (0.29.1)\n",
            "Requirement already satisfied: numpy>=1.20 in /usr/local/lib/python3.10/dist-packages (from stable_baselines3) (1.23.5)\n",
            "Requirement already satisfied: torch>=1.13 in /usr/local/lib/python3.10/dist-packages (from stable_baselines3) (2.0.1+cu118)\n",
            "Requirement already satisfied: cloudpickle in /usr/local/lib/python3.10/dist-packages (from stable_baselines3) (2.2.1)\n",
            "Requirement already satisfied: pandas in /usr/local/lib/python3.10/dist-packages (from stable_baselines3) (1.5.3)\n",
            "Requirement already satisfied: matplotlib in /usr/local/lib/python3.10/dist-packages (from stable_baselines3) (3.7.1)\n",
            "Requirement already satisfied: typing-extensions>=4.3.0 in /usr/local/lib/python3.10/dist-packages (from gymnasium<0.30,>=0.28.1->stable_baselines3) (4.7.1)\n",
            "Requirement already satisfied: farama-notifications>=0.0.1 in /usr/local/lib/python3.10/dist-packages (from gymnasium<0.30,>=0.28.1->stable_baselines3) (0.0.4)\n",
            "Requirement already satisfied: filelock in /usr/local/lib/python3.10/dist-packages (from torch>=1.13->stable_baselines3) (3.12.2)\n",
            "Requirement already satisfied: sympy in /usr/local/lib/python3.10/dist-packages (from torch>=1.13->stable_baselines3) (1.12)\n",
            "Requirement already satisfied: networkx in /usr/local/lib/python3.10/dist-packages (from torch>=1.13->stable_baselines3) (3.1)\n",
            "Requirement already satisfied: jinja2 in /usr/local/lib/python3.10/dist-packages (from torch>=1.13->stable_baselines3) (3.1.2)\n",
            "Requirement already satisfied: triton==2.0.0 in /usr/local/lib/python3.10/dist-packages (from torch>=1.13->stable_baselines3) (2.0.0)\n",
            "Requirement already satisfied: cmake in /usr/local/lib/python3.10/dist-packages (from triton==2.0.0->torch>=1.13->stable_baselines3) (3.27.2)\n",
            "Requirement already satisfied: lit in /usr/local/lib/python3.10/dist-packages (from triton==2.0.0->torch>=1.13->stable_baselines3) (16.0.6)\n",
            "Requirement already satisfied: contourpy>=1.0.1 in /usr/local/lib/python3.10/dist-packages (from matplotlib->stable_baselines3) (1.1.0)\n",
            "Requirement already satisfied: cycler>=0.10 in /usr/local/lib/python3.10/dist-packages (from matplotlib->stable_baselines3) (0.11.0)\n",
            "Requirement already satisfied: fonttools>=4.22.0 in /usr/local/lib/python3.10/dist-packages (from matplotlib->stable_baselines3) (4.42.0)\n",
            "Requirement already satisfied: kiwisolver>=1.0.1 in /usr/local/lib/python3.10/dist-packages (from matplotlib->stable_baselines3) (1.4.4)\n",
            "Requirement already satisfied: packaging>=20.0 in /usr/local/lib/python3.10/dist-packages (from matplotlib->stable_baselines3) (23.1)\n",
            "Requirement already satisfied: pillow>=6.2.0 in /usr/local/lib/python3.10/dist-packages (from matplotlib->stable_baselines3) (9.4.0)\n",
            "Requirement already satisfied: pyparsing>=2.3.1 in /usr/local/lib/python3.10/dist-packages (from matplotlib->stable_baselines3) (3.1.1)\n",
            "Requirement already satisfied: python-dateutil>=2.7 in /usr/local/lib/python3.10/dist-packages (from matplotlib->stable_baselines3) (2.8.2)\n",
            "Requirement already satisfied: pytz>=2020.1 in /usr/local/lib/python3.10/dist-packages (from pandas->stable_baselines3) (2023.3)\n",
            "Requirement already satisfied: six>=1.5 in /usr/local/lib/python3.10/dist-packages (from python-dateutil>=2.7->matplotlib->stable_baselines3) (1.16.0)\n",
            "Requirement already satisfied: MarkupSafe>=2.0 in /usr/local/lib/python3.10/dist-packages (from jinja2->torch>=1.13->stable_baselines3) (2.1.3)\n",
            "Requirement already satisfied: mpmath>=0.19 in /usr/local/lib/python3.10/dist-packages (from sympy->torch>=1.13->stable_baselines3) (1.3.0)\n",
            "Installing collected packages: stable_baselines3\n",
            "Successfully installed stable_baselines3-2.1.0\n"
          ]
        }
      ],
      "source": [
        "pip install stable_baselines3"
      ],
      "id": "fDrOyddJpsod"
    },
    {
      "cell_type": "code",
      "execution_count": null,
      "metadata": {
        "colab": {
          "background_save": true,
          "base_uri": "https://localhost:8080/",
          "height": 430
        },
        "id": "p3VLg9FPl93I",
        "outputId": "63047a49-d8d7-4fde-879e-eefa5baf9e15"
      },
      "outputs": [
        {
          "name": "stderr",
          "output_type": "stream",
          "text": [
            "/usr/local/lib/python3.10/dist-packages/torch/utils/tensorboard/__init__.py:4: DeprecationWarning: distutils Version classes are deprecated. Use packaging.version instead.\n",
            "  if not hasattr(tensorboard, \"__version__\") or LooseVersion(\n"
          ]
        },
        {
          "name": "stdout",
          "output_type": "stream",
          "text": [
            "Using cuda device\n"
          ]
        },
        {
          "ename": "NotImplementedError",
          "evalue": "ignored",
          "output_type": "error",
          "traceback": [
            "\u001b[0;31m---------------------------------------------------------------------------\u001b[0m",
            "\u001b[0;31mNotImplementedError\u001b[0m                       Traceback (most recent call last)",
            "\u001b[0;32m<ipython-input-6-ff6a3c48e263>\u001b[0m in \u001b[0;36m<cell line: 9>\u001b[0;34m()\u001b[0m\n\u001b[1;32m      7\u001b[0m \u001b[0menv\u001b[0m \u001b[0;34m=\u001b[0m \u001b[0mDummyVecEnv\u001b[0m\u001b[0;34m(\u001b[0m\u001b[0;34m[\u001b[0m\u001b[0;32mlambda\u001b[0m\u001b[0;34m:\u001b[0m \u001b[0menv\u001b[0m\u001b[0;34m]\u001b[0m\u001b[0;34m)\u001b[0m\u001b[0;34m\u001b[0m\u001b[0;34m\u001b[0m\u001b[0m\n\u001b[1;32m      8\u001b[0m \u001b[0;34m\u001b[0m\u001b[0m\n\u001b[0;32m----> 9\u001b[0;31m \u001b[0mmodel\u001b[0m \u001b[0;34m=\u001b[0m \u001b[0mDQN\u001b[0m\u001b[0;34m(\u001b[0m\u001b[0;34m\"MlpPolicy\"\u001b[0m\u001b[0;34m,\u001b[0m \u001b[0menv\u001b[0m\u001b[0;34m,\u001b[0m \u001b[0mverbose\u001b[0m\u001b[0;34m=\u001b[0m\u001b[0;36m1\u001b[0m\u001b[0;34m)\u001b[0m\u001b[0;34m\u001b[0m\u001b[0;34m\u001b[0m\u001b[0m\n\u001b[0m",
            "\u001b[0;32m/usr/local/lib/python3.10/dist-packages/stable_baselines3/dqn/dqn.py\u001b[0m in \u001b[0;36m__init__\u001b[0;34m(self, policy, env, learning_rate, buffer_size, learning_starts, batch_size, tau, gamma, train_freq, gradient_steps, replay_buffer_class, replay_buffer_kwargs, optimize_memory_usage, target_update_interval, exploration_fraction, exploration_initial_eps, exploration_final_eps, max_grad_norm, stats_window_size, tensorboard_log, policy_kwargs, verbose, seed, device, _init_setup_model)\u001b[0m\n\u001b[1;32m    139\u001b[0m \u001b[0;34m\u001b[0m\u001b[0m\n\u001b[1;32m    140\u001b[0m         \u001b[0;32mif\u001b[0m \u001b[0m_init_setup_model\u001b[0m\u001b[0;34m:\u001b[0m\u001b[0;34m\u001b[0m\u001b[0;34m\u001b[0m\u001b[0m\n\u001b[0;32m--> 141\u001b[0;31m             \u001b[0mself\u001b[0m\u001b[0;34m.\u001b[0m\u001b[0m_setup_model\u001b[0m\u001b[0;34m(\u001b[0m\u001b[0;34m)\u001b[0m\u001b[0;34m\u001b[0m\u001b[0;34m\u001b[0m\u001b[0m\n\u001b[0m\u001b[1;32m    142\u001b[0m \u001b[0;34m\u001b[0m\u001b[0m\n\u001b[1;32m    143\u001b[0m     \u001b[0;32mdef\u001b[0m \u001b[0m_setup_model\u001b[0m\u001b[0;34m(\u001b[0m\u001b[0mself\u001b[0m\u001b[0;34m)\u001b[0m \u001b[0;34m->\u001b[0m \u001b[0;32mNone\u001b[0m\u001b[0;34m:\u001b[0m\u001b[0;34m\u001b[0m\u001b[0;34m\u001b[0m\u001b[0m\n",
            "\u001b[0;32m/usr/local/lib/python3.10/dist-packages/stable_baselines3/dqn/dqn.py\u001b[0m in \u001b[0;36m_setup_model\u001b[0;34m(self)\u001b[0m\n\u001b[1;32m    142\u001b[0m \u001b[0;34m\u001b[0m\u001b[0m\n\u001b[1;32m    143\u001b[0m     \u001b[0;32mdef\u001b[0m \u001b[0m_setup_model\u001b[0m\u001b[0;34m(\u001b[0m\u001b[0mself\u001b[0m\u001b[0;34m)\u001b[0m \u001b[0;34m->\u001b[0m \u001b[0;32mNone\u001b[0m\u001b[0;34m:\u001b[0m\u001b[0;34m\u001b[0m\u001b[0;34m\u001b[0m\u001b[0m\n\u001b[0;32m--> 144\u001b[0;31m         \u001b[0msuper\u001b[0m\u001b[0;34m(\u001b[0m\u001b[0;34m)\u001b[0m\u001b[0;34m.\u001b[0m\u001b[0m_setup_model\u001b[0m\u001b[0;34m(\u001b[0m\u001b[0;34m)\u001b[0m\u001b[0;34m\u001b[0m\u001b[0;34m\u001b[0m\u001b[0m\n\u001b[0m\u001b[1;32m    145\u001b[0m         \u001b[0mself\u001b[0m\u001b[0;34m.\u001b[0m\u001b[0m_create_aliases\u001b[0m\u001b[0;34m(\u001b[0m\u001b[0;34m)\u001b[0m\u001b[0;34m\u001b[0m\u001b[0;34m\u001b[0m\u001b[0m\n\u001b[1;32m    146\u001b[0m         \u001b[0;31m# Copy running stats, see GH issue #996\u001b[0m\u001b[0;34m\u001b[0m\u001b[0;34m\u001b[0m\u001b[0m\n",
            "\u001b[0;32m/usr/local/lib/python3.10/dist-packages/stable_baselines3/common/off_policy_algorithm.py\u001b[0m in \u001b[0;36m_setup_model\u001b[0;34m(self)\u001b[0m\n\u001b[1;32m    187\u001b[0m                 \u001b[0;32massert\u001b[0m \u001b[0mself\u001b[0m\u001b[0;34m.\u001b[0m\u001b[0menv\u001b[0m \u001b[0;32mis\u001b[0m \u001b[0;32mnot\u001b[0m \u001b[0;32mNone\u001b[0m\u001b[0;34m,\u001b[0m \u001b[0;34m\"You must pass an environment when using `HerReplayBuffer`\"\u001b[0m\u001b[0;34m\u001b[0m\u001b[0;34m\u001b[0m\u001b[0m\n\u001b[1;32m    188\u001b[0m                 \u001b[0mreplay_buffer_kwargs\u001b[0m\u001b[0;34m[\u001b[0m\u001b[0;34m\"env\"\u001b[0m\u001b[0;34m]\u001b[0m \u001b[0;34m=\u001b[0m \u001b[0mself\u001b[0m\u001b[0;34m.\u001b[0m\u001b[0menv\u001b[0m\u001b[0;34m\u001b[0m\u001b[0;34m\u001b[0m\u001b[0m\n\u001b[0;32m--> 189\u001b[0;31m             self.replay_buffer = self.replay_buffer_class(\n\u001b[0m\u001b[1;32m    190\u001b[0m                 \u001b[0mself\u001b[0m\u001b[0;34m.\u001b[0m\u001b[0mbuffer_size\u001b[0m\u001b[0;34m,\u001b[0m\u001b[0;34m\u001b[0m\u001b[0;34m\u001b[0m\u001b[0m\n\u001b[1;32m    191\u001b[0m                 \u001b[0mself\u001b[0m\u001b[0;34m.\u001b[0m\u001b[0mobservation_space\u001b[0m\u001b[0;34m,\u001b[0m\u001b[0;34m\u001b[0m\u001b[0;34m\u001b[0m\u001b[0m\n",
            "\u001b[0;32m/usr/local/lib/python3.10/dist-packages/stable_baselines3/common/buffers.py\u001b[0m in \u001b[0;36m__init__\u001b[0;34m(self, buffer_size, observation_space, action_space, device, n_envs, optimize_memory_usage, handle_timeout_termination)\u001b[0m\n\u001b[1;32m    182\u001b[0m         \u001b[0mhandle_timeout_termination\u001b[0m\u001b[0;34m:\u001b[0m \u001b[0mbool\u001b[0m \u001b[0;34m=\u001b[0m \u001b[0;32mTrue\u001b[0m\u001b[0;34m,\u001b[0m\u001b[0;34m\u001b[0m\u001b[0;34m\u001b[0m\u001b[0m\n\u001b[1;32m    183\u001b[0m     ):\n\u001b[0;32m--> 184\u001b[0;31m         \u001b[0msuper\u001b[0m\u001b[0;34m(\u001b[0m\u001b[0;34m)\u001b[0m\u001b[0;34m.\u001b[0m\u001b[0m__init__\u001b[0m\u001b[0;34m(\u001b[0m\u001b[0mbuffer_size\u001b[0m\u001b[0;34m,\u001b[0m \u001b[0mobservation_space\u001b[0m\u001b[0;34m,\u001b[0m \u001b[0maction_space\u001b[0m\u001b[0;34m,\u001b[0m \u001b[0mdevice\u001b[0m\u001b[0;34m,\u001b[0m \u001b[0mn_envs\u001b[0m\u001b[0;34m=\u001b[0m\u001b[0mn_envs\u001b[0m\u001b[0;34m)\u001b[0m\u001b[0;34m\u001b[0m\u001b[0;34m\u001b[0m\u001b[0m\n\u001b[0m\u001b[1;32m    185\u001b[0m \u001b[0;34m\u001b[0m\u001b[0m\n\u001b[1;32m    186\u001b[0m         \u001b[0;31m# Adjust buffer size\u001b[0m\u001b[0;34m\u001b[0m\u001b[0;34m\u001b[0m\u001b[0m\n",
            "\u001b[0;32m/usr/local/lib/python3.10/dist-packages/stable_baselines3/common/buffers.py\u001b[0m in \u001b[0;36m__init__\u001b[0;34m(self, buffer_size, observation_space, action_space, device, n_envs)\u001b[0m\n\u001b[1;32m     48\u001b[0m         \u001b[0mself\u001b[0m\u001b[0;34m.\u001b[0m\u001b[0mobservation_space\u001b[0m \u001b[0;34m=\u001b[0m \u001b[0mobservation_space\u001b[0m\u001b[0;34m\u001b[0m\u001b[0;34m\u001b[0m\u001b[0m\n\u001b[1;32m     49\u001b[0m         \u001b[0mself\u001b[0m\u001b[0;34m.\u001b[0m\u001b[0maction_space\u001b[0m \u001b[0;34m=\u001b[0m \u001b[0maction_space\u001b[0m\u001b[0;34m\u001b[0m\u001b[0;34m\u001b[0m\u001b[0m\n\u001b[0;32m---> 50\u001b[0;31m         \u001b[0mself\u001b[0m\u001b[0;34m.\u001b[0m\u001b[0mobs_shape\u001b[0m \u001b[0;34m=\u001b[0m \u001b[0mget_obs_shape\u001b[0m\u001b[0;34m(\u001b[0m\u001b[0mobservation_space\u001b[0m\u001b[0;34m)\u001b[0m\u001b[0;34m\u001b[0m\u001b[0;34m\u001b[0m\u001b[0m\n\u001b[0m\u001b[1;32m     51\u001b[0m \u001b[0;34m\u001b[0m\u001b[0m\n\u001b[1;32m     52\u001b[0m         \u001b[0mself\u001b[0m\u001b[0;34m.\u001b[0m\u001b[0maction_dim\u001b[0m \u001b[0;34m=\u001b[0m \u001b[0mget_action_dim\u001b[0m\u001b[0;34m(\u001b[0m\u001b[0maction_space\u001b[0m\u001b[0;34m)\u001b[0m\u001b[0;34m\u001b[0m\u001b[0;34m\u001b[0m\u001b[0m\n",
            "\u001b[0;32m/usr/local/lib/python3.10/dist-packages/stable_baselines3/common/preprocessing.py\u001b[0m in \u001b[0;36mget_obs_shape\u001b[0;34m(observation_space)\u001b[0m\n\u001b[1;32m    164\u001b[0m \u001b[0;34m\u001b[0m\u001b[0m\n\u001b[1;32m    165\u001b[0m     \u001b[0;32melse\u001b[0m\u001b[0;34m:\u001b[0m\u001b[0;34m\u001b[0m\u001b[0;34m\u001b[0m\u001b[0m\n\u001b[0;32m--> 166\u001b[0;31m         \u001b[0;32mraise\u001b[0m \u001b[0mNotImplementedError\u001b[0m\u001b[0;34m(\u001b[0m\u001b[0;34mf\"{observation_space} observation space is not supported\"\u001b[0m\u001b[0;34m)\u001b[0m\u001b[0;34m\u001b[0m\u001b[0;34m\u001b[0m\u001b[0m\n\u001b[0m\u001b[1;32m    167\u001b[0m \u001b[0;34m\u001b[0m\u001b[0m\n\u001b[1;32m    168\u001b[0m \u001b[0;34m\u001b[0m\u001b[0m\n",
            "\u001b[0;31mNotImplementedError\u001b[0m: MultiDiscrete([3 3 3 3 3 3 3 3 3 3 3 3 3 3 3 3 3 3 3 3 3 3 3 3 3]) observation space is not supported"
          ]
        }
      ],
      "source": [
        "import stable_baselines3\n",
        "\n",
        "from stable_baselines3 import DQN\n",
        "from stable_baselines3.common.vec_env import DummyVecEnv\n",
        "\n",
        "env = BaghchalEnv()\n",
        "env = DummyVecEnv([lambda: env])\n",
        "\n",
        "model = DQN(\"MlpPolicy\", env, verbose=1)\n"
      ],
      "id": "p3VLg9FPl93I"
    },
    {
      "cell_type": "code",
      "execution_count": null,
      "metadata": {
        "colab": {
          "background_save": true
        },
        "id": "vO_DTPZpl96m"
      },
      "outputs": [],
      "source": [
        "fmodel.learn(total_timesteps=10000)\n"
      ],
      "id": "vO_DTPZpl96m"
    },
    {
      "cell_type": "code",
      "execution_count": null,
      "metadata": {
        "colab": {
          "background_save": true
        },
        "id": "jrI9Bw_bl9-I"
      },
      "outputs": [],
      "source": [
        "model.save(\"baghchal_dqn_model\")\n"
      ],
      "id": "jrI9Bw_bl9-I"
    },
    {
      "cell_type": "code",
      "execution_count": null,
      "metadata": {
        "colab": {
          "background_save": true
        },
        "id": "-WhfA7gVl-Bk"
      },
      "outputs": [],
      "source": [
        "loaded_model = DQN.load(\"baghchal_dqn_model\")\n",
        "\n",
        "for _ in range(10):\n",
        "    obs = env.reset()\n",
        "    done = False\n",
        "    while not done:\n",
        "        action, _ = loaded_model.predict(obs)\n",
        "        obs, reward, done, _ = env.step(action)\n",
        "        env.render()\n"
      ],
      "id": "-WhfA7gVl-Bk"
    },
    {
      "cell_type": "code",
      "execution_count": null,
      "metadata": {
        "colab": {
          "background_save": true
        },
        "id": "MRtOoiynl-Eb"
      },
      "outputs": [],
      "source": [],
      "id": "MRtOoiynl-Eb"
    },
    {
      "cell_type": "code",
      "execution_count": null,
      "metadata": {
        "colab": {
          "background_save": true
        },
        "id": "DQZ48C53l-Hm"
      },
      "outputs": [],
      "source": [],
      "id": "DQZ48C53l-Hm"
    },
    {
      "cell_type": "code",
      "execution_count": null,
      "metadata": {
        "colab": {
          "background_save": true
        },
        "id": "lyveI3Wql-Ku"
      },
      "outputs": [],
      "source": [],
      "id": "lyveI3Wql-Ku"
    },
    {
      "cell_type": "code",
      "execution_count": null,
      "metadata": {
        "colab": {
          "background_save": true
        },
        "id": "xYRZhW9vl-OH"
      },
      "outputs": [],
      "source": [],
      "id": "xYRZhW9vl-OH"
    },
    {
      "cell_type": "code",
      "execution_count": null,
      "metadata": {
        "colab": {
          "background_save": true
        },
        "id": "Trr1JFpLl-QW"
      },
      "outputs": [],
      "source": [],
      "id": "Trr1JFpLl-QW"
    },
    {
      "cell_type": "code",
      "execution_count": null,
      "metadata": {
        "colab": {
          "background_save": true
        },
        "id": "Z8TSQ8tTl-To"
      },
      "outputs": [],
      "source": [],
      "id": "Z8TSQ8tTl-To"
    },
    {
      "cell_type": "code",
      "execution_count": null,
      "metadata": {
        "colab": {
          "background_save": true
        },
        "id": "Y9C-VWpJl-WY"
      },
      "outputs": [],
      "source": [],
      "id": "Y9C-VWpJl-WY"
    },
    {
      "cell_type": "code",
      "execution_count": null,
      "metadata": {
        "colab": {
          "background_save": true
        },
        "id": "wtPEVXn_l-Zx"
      },
      "outputs": [],
      "source": [],
      "id": "wtPEVXn_l-Zx"
    },
    {
      "cell_type": "code",
      "execution_count": null,
      "metadata": {
        "colab": {
          "background_save": true
        },
        "id": "-5p1Iikll-c7"
      },
      "outputs": [],
      "source": [],
      "id": "-5p1Iikll-c7"
    },
    {
      "cell_type": "code",
      "execution_count": null,
      "metadata": {
        "colab": {
          "background_save": true
        },
        "id": "Tk0QUHOtl-gI"
      },
      "outputs": [],
      "source": [],
      "id": "Tk0QUHOtl-gI"
    },
    {
      "cell_type": "code",
      "execution_count": null,
      "metadata": {
        "colab": {
          "background_save": true
        },
        "id": "mgyRa0eel-jY"
      },
      "outputs": [],
      "source": [],
      "id": "mgyRa0eel-jY"
    },
    {
      "cell_type": "code",
      "execution_count": null,
      "metadata": {
        "colab": {
          "background_save": true
        },
        "id": "ib2FZV3Ul-mz"
      },
      "outputs": [],
      "source": [],
      "id": "ib2FZV3Ul-mz"
    },
    {
      "cell_type": "code",
      "execution_count": null,
      "metadata": {
        "colab": {
          "background_save": true
        },
        "id": "i9O7taOA6ik8"
      },
      "outputs": [],
      "source": [
        "import gym\n",
        "import numpy as np\n",
        "from stable_baselines3 import DQN\n",
        "\n",
        "# Create the Baghchal environment\n",
        "env = BaghchalEnv()\n",
        "\n",
        "# Create a DQN model\n",
        "model = DQN(\"MlpPolicy\", env, verbose=1)\n",
        "\n",
        "# Train the agent\n",
        "total_timesteps = 100000\n",
        "model.learn(total_timesteps=total_timesteps)\n",
        "\n",
        "# Save the trained model\n",
        "model.save(\"dqn_baghchal\")\n",
        "\n",
        "# Test the trained agent\n",
        "obs = env.reset()\n",
        "for _ in range(10):\n",
        "    action, _ = model.predict(obs)\n",
        "    obs, reward, done, _ = env.step(action)  # Pass action as a single value, not in a list\n",
        "    env.render()\n",
        "    if done:\n",
        "        obs = env.reset()\n",
        "\n",
        "# Close the environment\n",
        "env.close()\n"
      ],
      "id": "i9O7taOA6ik8"
    },
    {
      "cell_type": "code",
      "execution_count": null,
      "metadata": {
        "colab": {
          "background_save": true
        },
        "id": "gsE3MZIm6im7"
      },
      "outputs": [],
      "source": [],
      "id": "gsE3MZIm6im7"
    },
    {
      "cell_type": "code",
      "execution_count": null,
      "metadata": {
        "colab": {
          "background_save": true
        },
        "id": "pQa8XxZb6iqG"
      },
      "outputs": [],
      "source": [],
      "id": "pQa8XxZb6iqG"
    },
    {
      "cell_type": "code",
      "execution_count": null,
      "metadata": {
        "colab": {
          "background_save": true
        },
        "id": "Gm7xAhkX6is8"
      },
      "outputs": [],
      "source": [],
      "id": "Gm7xAhkX6is8"
    },
    {
      "cell_type": "code",
      "execution_count": null,
      "metadata": {
        "colab": {
          "background_save": true
        },
        "id": "WVUmi91c6iv4"
      },
      "outputs": [],
      "source": [],
      "id": "WVUmi91c6iv4"
    },
    {
      "cell_type": "code",
      "execution_count": null,
      "metadata": {
        "colab": {
          "background_save": true
        },
        "id": "geO8xpbRi_-p"
      },
      "outputs": [],
      "source": [
        "!pip install tensor\n",
        "!pip install matplotlib\n",
        "!pip install stable_baselines3"
      ],
      "id": "geO8xpbRi_-p"
    },
    {
      "cell_type": "code",
      "execution_count": null,
      "metadata": {
        "colab": {
          "background_save": true
        },
        "id": "1433625c"
      },
      "outputs": [],
      "source": [
        "import tensorflow\n",
        "import stable_baselines3\n",
        "import matplotlib.pyplot as plt\n",
        "from stable_baselines3.common.vec_env import DummyVecEnv\n",
        "\n",
        "from stable_baselines3 import DQN\n",
        "\n",
        "\n",
        "from stable_baselines3.common.monitor import Monitor\n",
        "# Create the Baghchal environment\n",
        "env = BaghchalEnv()\n",
        "env = Monitor(env, \"./logs\", info_keywords=(\"episode_reward\",))  # Wrap with Monitor\n",
        "env = DummyVecEnv([lambda: env])\n",
        "# Hyperparameters\n",
        "hyperparameters = {\n",
        "    \"learning_rate\": 0.001,\n",
        "    \"buffer_size\": 1000,\n",
        "    \"batch_size\": 64,\n",
        "    \"gamma\": 0.95,\n",
        "    \"target_update_freq\": 100,\n",
        "    \"exploration_fraction\": 0.1,\n",
        "    \"exploration_initial_eps\": 1.0,\n",
        "    \"exploration_final_eps\": 0.05,\n",
        "    \"learning_starts\": 1000,\n",
        "    \"total_timesteps\": int(1e5),\n",
        "    \"policy\": \"MlpPolicy\",\n",
        "    \"optimizer_class\": \"Adam\",\n",
        "    \"target_update_tau\": 0.995,\n",
        "}\n",
        "\n",
        "# Track rewards\n",
        "episode_rewards = []\n",
        "\n",
        "# Train and track rewards\n",
        "for episode in range(hyperparameters[\"total_timesteps\"]):\n",
        "\n",
        "    # Create and train the DQN agent with TensorBoard logging\n",
        "    model = DQN(hyperparameters[\"policy\"], env, verbose=1,\n",
        "                learning_rate=hyperparameters[\"learning_rate\"],\n",
        "                buffer_size=hyperparameters[\"buffer_size\"],\n",
        "                batch_size=hyperparameters[\"batch_size\"],\n",
        "                gamma=hyperparameters[\"gamma\"],\n",
        "                target_update_interval=hyperparameters[\"target_update_tau\"],\n",
        "                exploration_fraction=hyperparameters[\"exploration_fraction\"],\n",
        "                exploration_initial_eps=hyperparameters[\"exploration_initial_eps\"],\n",
        "                exploration_final_eps=hyperparameters[\"exploration_final_eps\"],\n",
        "                learning_starts=hyperparameters[\"learning_starts\"],\n",
        "                tensorboard_log=\"./logs\")  # Enable TensorBoard logging\n",
        "\n",
        "    # Train the agent\n",
        "    model.learn(total_timesteps=hyperparameters[\"total_timesteps\"])\n",
        "\n",
        "    # After the episode, append the episode reward to the list\n",
        "    episode_rewards.append(episode_rewards)\n",
        "\n",
        "    # Plot rewards\n",
        "    plt.plot(episode_rewards)\n",
        "    plt.xlabel(\"Episode\")\n",
        "    plt.ylabel(\"Reward\")\n",
        "    plt.title(\"Training Performance\")\n",
        "    plt.show()\n",
        "\n",
        "    # Use TensorBoard to visualize training performance\n",
        "    # Run this command in a code cell to launch TensorBoard:\n",
        "    # %tensorboard --logdir ./logs\n",
        "    %tensorboard --logdir ./logs\n",
        "\n",
        "mean_reward, _ = evaluate_policy(model, env, n_eval_episodes=10)\n",
        "print(f\"Mean reward: {mean_reward:.2f}\")\n"
      ],
      "id": "1433625c"
    },
    {
      "cell_type": "code",
      "execution_count": null,
      "metadata": {
        "colab": {
          "background_save": true
        },
        "id": "f882ef70"
      },
      "outputs": [],
      "source": [],
      "id": "f882ef70"
    },
    {
      "cell_type": "code",
      "execution_count": null,
      "metadata": {
        "colab": {
          "background_save": true
        },
        "id": "5fc95f3a"
      },
      "outputs": [],
      "source": [],
      "id": "5fc95f3a"
    },
    {
      "cell_type": "code",
      "execution_count": null,
      "metadata": {
        "colab": {
          "background_save": true
        },
        "id": "YNKTTLz9aJan"
      },
      "outputs": [],
      "source": [],
      "id": "YNKTTLz9aJan"
    }
  ],
  "metadata": {
    "accelerator": "GPU",
    "colab": {
      "provenance": []
    },
    "kernelspec": {
      "display_name": "Python 3",
      "name": "python3"
    },
    "language_info": {
      "codemirror_mode": {
        "name": "ipython",
        "version": 3
      },
      "file_extension": ".py",
      "mimetype": "text/x-python",
      "name": "python",
      "nbconvert_exporter": "python",
      "pygments_lexer": "ipython3",
      "version": "3.10.12"
    }
  },
  "nbformat": 4,
  "nbformat_minor": 5
}